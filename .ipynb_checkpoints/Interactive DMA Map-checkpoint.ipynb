{
 "cells": [
  {
   "cell_type": "markdown",
   "id": "cc19fc9c",
   "metadata": {},
   "source": [
    "# Interactive WebMap with GeoPandas and Folium"
   ]
  },
  {
   "cell_type": "markdown",
   "id": "6bae1822",
   "metadata": {},
   "source": [
    "GeoPandas is a Python library that simplifies working with geospatial data. It extends Pandas' capabilities to handle geographic information, allowing easy data manipulation, spatial operations, and visualization. By integrating geometry, attributes, and mapping functionalities, Geopandas facilitates tasks like spatial analysis, querying, and creating maps.\n",
    "\n",
    "Folium is another Python library that builds on the data wrangling strengths of the Python ecosystem and the mapping strengths of the Leaflet.js library. It allows you to manipulate your data in Python, then visualize it in a Leaflet map via Folium."
   ]
  },
  {
   "cell_type": "markdown",
   "id": "c619e688",
   "metadata": {},
   "source": [
    "Importing required libraries:"
   ]
  },
  {
   "cell_type": "code",
   "execution_count": null,
   "id": "1924689a",
   "metadata": {},
   "outputs": [],
   "source": [
    "%matplotlib inline\n",
    "import pandas as pd\n",
    "import geopandas as gpd\n",
    "import psycopg2\n",
    "import psycopg2.extras\n",
    "import folium\n",
    "import json"
   ]
  },
  {
   "cell_type": "markdown",
   "id": "52ec0deb",
   "metadata": {},
   "source": [
    "Establishing connection with PostgreSQL(postgis) server. Keeping my credentials secret for this demonstration. I prefer to use data from a PostGIS enabled server. You can always modify the data on the fly through SQL."
   ]
  },
  {
   "cell_type": "code",
   "execution_count": null,
   "id": "30359afb",
   "metadata": {},
   "outputs": [],
   "source": [
    "df = pd.read_csv(r\"D:\\Dropbox\\Touhid Personal\\credentials\\postgresql_credentials.csv\")\n",
    "\n",
    "conn = psycopg2.connect (\n",
    "    host = df.loc[0,'host'],\n",
    "    port = df.loc[0,'port'],\n",
    "    dbname = df.loc[0,'database'],\n",
    "    user = df.loc[0,'username'],\n",
    "    password = df.loc[0,'password']\n",
    ")\n",
    "cur = conn.cursor(cursor_factory=psycopg2.extras.DictCursor)"
   ]
  },
  {
   "cell_type": "markdown",
   "id": "143f7a33",
   "metadata": {},
   "source": [
    "Initializing Folium mapping canvas and setting a starting point. Adding some basemaps."
   ]
  },
  {
   "cell_type": "code",
   "execution_count": null,
   "id": "f8809354",
   "metadata": {
    "scrolled": false
   },
   "outputs": [],
   "source": [
    "mp = folium.Map(location=[23.810331,90.412521], zoom_start=13,\n",
    "                control_scale=True, tiles='CartoDB Positron', name = 'CartoDB Positron')\n",
    "folium.TileLayer(tiles='http://services.arcgisonline.com/ArcGIS/rest/services/World_Imagery/MapServer/tile/{z}/{y}/{x}', name='Esri Imagery', attr='ESRI World Imagery').add_to(mp)\n",
    "folium.TileLayer('Stamen Watercolor', name='Stamen Watercolor').add_to(mp)\n",
    "folium.TileLayer('OpenStreetMap', name='OpenStreetMap').add_to(mp)"
   ]
  },
  {
   "cell_type": "markdown",
   "id": "6f3305f2",
   "metadata": {},
   "source": [
    "Taking input from user. "
   ]
  },
  {
   "cell_type": "code",
   "execution_count": null,
   "id": "99192cdd",
   "metadata": {},
   "outputs": [],
   "source": [
    "dma_id = input()"
   ]
  },
  {
   "cell_type": "markdown",
   "id": "98259e3d",
   "metadata": {},
   "source": [
    "Passing the user input to PostgreSQL database and retrieving the study area boundary. GeoPandas has been used to handle the data. Though, the official documentation of GeoPandas suggests to use SQLAlchemy to connect with databases, I really like the Psycopg2 for this purpose. It does not same work.\n",
    "Fetching data and styling it at the same time."
   ]
  },
  {
   "cell_type": "code",
   "execution_count": null,
   "id": "f9e9a89e",
   "metadata": {
    "scrolled": false
   },
   "outputs": [],
   "source": [
    "def style_dma(ftr):\n",
    "    return {'color':'black','fillOpacity':0, 'weight':4}\n",
    "\n",
    "dma = gpd.GeoDataFrame.from_postgis(f\"SELECT *from all_dma where dma_id = '{dma_id}' \",conn)\n",
    "dma.to_crs(epsg=4326, inplace=True)\n",
    "#converting the object to json\n",
    "dma_json = dma.to_json()\n",
    "#converting the json to geojson\n",
    "dma_geojson = folium.features.GeoJson(dma_json, name='DMA Boundary', style_function=style_dma).add_to(mp)"
   ]
  },
  {
   "cell_type": "markdown",
   "id": "7d430b52",
   "metadata": {},
   "source": [
    "Though an initial point has been set up at the time of initializing Folium, it is highly unlikely that the study area will be at that location. Therefore, getting the minimum and maximum values for both latitude and longitude of our area of interest, and setting the map canvas accordingly. "
   ]
  },
  {
   "cell_type": "code",
   "execution_count": null,
   "id": "d47b636e",
   "metadata": {
    "scrolled": true
   },
   "outputs": [],
   "source": [
    "minx = dma.bounds.loc[0,'minx']\n",
    "miny = dma.bounds.loc[0,'miny']\n",
    "maxx = dma.bounds.loc[0,'maxx']\n",
    "maxy = dma.bounds.loc[0,'maxy']\n",
    "mp.fit_bounds([[miny,minx],[maxy,maxx]])\n",
    "mp"
   ]
  },
  {
   "cell_type": "markdown",
   "id": "9543e2e1",
   "metadata": {},
   "source": [
    "The complete map will contain a number of features, which are: valves, pipelines, deep tube wells, DMA Chambers, service connection lines, buildings and consumer meter. Among these valves, deep tube wells, DMA Chambers, and consumer meter are of point type. Pipelines are multipolyline, and buildings are multipolygon. I will load these features one by one from the PostgreSQL server and style them accordingly."
   ]
  },
  {
   "cell_type": "markdown",
   "id": "d318ee9f",
   "metadata": {},
   "source": [
    "## Loading pipelines and setting proper styling"
   ]
  },
  {
   "cell_type": "markdown",
   "id": "a580cb5f",
   "metadata": {},
   "source": [
    "The basic process is that Folium takes a GeoJSON object, iterates through each feature, apply prefixed styling, and add the features on map"
   ]
  },
  {
   "cell_type": "code",
   "execution_count": null,
   "id": "c69eaf14",
   "metadata": {
    "scrolled": true
   },
   "outputs": [],
   "source": [
    "#PIPELINES\n",
    "\n",
    "def style_pipeline(ftr):\n",
    "    color_dict = {\n",
    "        '50': '#99bbff',\n",
    "        '75': '#1a66ff',\n",
    "        '100': '#008080',\n",
    "        '110': '#66ff99',\n",
    "        '150': '#00e64d',\n",
    "        '160': '#006622',\n",
    "        '200': '#ffb380',\n",
    "        '250': '#ff6600',\n",
    "        '300': '#b34700',\n",
    "        '315': '#d9b3ff',\n",
    "        '355': '#a64dff',\n",
    "        '400': '#4d0099',\n",
    "        '450': '#8585ad',\n",
    "        '560': '#cc6699',\n",
    "    }\n",
    "    \n",
    "    pipeline_diameter = ftr['properties']['pipeline_diameter']\n",
    "    color = color_dict.get(pipeline_diameter, 'black')\n",
    "    return {'color': color}\n",
    "\n",
    "pipelines = gpd.GeoDataFrame.from_postgis(f\"SELECT pipeline_database_id, pipeline_dma_id, pipeline_address, pipeline_diameter, pipeline_material, pipeline_category, pipeline_length, geom from pipelines where pipeline_dma_id = '{dma_id}'\",conn)\n",
    "pipelines.to_crs(epsg=4326, inplace=True)\n",
    "#converting the object to json\n",
    "pipelines_json = pipelines.to_json()\n",
    "#converting the json to geojson\n",
    "pipelines_geojson = folium.features.GeoJson(pipelines_json,\n",
    "                                            name='Pipelines',\n",
    "                                            tooltip= folium.features.GeoJsonTooltip(\n",
    "                                                ['pipeline_database_id','pipeline_diameter','pipeline_material','pipeline_category','pipeline_length'],\n",
    "                                                ['Pipeline ID:','Diameter (mm):','Meterial:','Category:','Length (m):']),\n",
    "                                            style_function=style_pipeline\n",
    "                                           ).add_to(mp)\n",
    "\n",
    "\n",
    "\n",
    "mp"
   ]
  },
  {
   "cell_type": "markdown",
   "id": "ba825020",
   "metadata": {},
   "source": [
    "## Loading Deep Tube Well and setting style"
   ]
  },
  {
   "cell_type": "markdown",
   "id": "cf1929f0",
   "metadata": {},
   "source": [
    "For simplicity, no category has been applied on deep tubewell. So, a simple marker will do. Folium can take any Glyphicon of Bootstrap, which is really nice. "
   ]
  },
  {
   "cell_type": "code",
   "execution_count": null,
   "id": "10f341f6",
   "metadata": {},
   "outputs": [],
   "source": [
    "#PTW\n",
    "\n",
    "ptw = gpd.GeoDataFrame.from_postgis(f\"SELECT ptw_id, ptw_dma_id, ptw_location, geom from ptw where ptw_dma_id = '{dma_id}'\",conn)\n",
    "ptw.to_crs(epsg=4326, inplace=True)\n",
    "\n",
    "ptw_json = ptw.to_json()\n",
    "\n",
    "ptw_geojson = folium.features.GeoJson(ptw_json, name='Deep Tube Well',\n",
    "                                      tooltip= folium.features.GeoJsonTooltip(\n",
    "                                      ['ptw_id', 'ptw_location'],\n",
    "                                      ['Tubewell ID:','Location']\n",
    "                                      ),\n",
    "                                      marker = folium.Marker(icon=folium.Icon(color=\"blue\", icon=\"tint\"))\n",
    "                                     ).add_to(mp)\n",
    "mp"
   ]
  },
  {
   "cell_type": "markdown",
   "id": "f8938c67",
   "metadata": {},
   "source": [
    "## Loading DMA Chamber and setting style"
   ]
  },
  {
   "cell_type": "code",
   "execution_count": null,
   "id": "24a1f442",
   "metadata": {},
   "outputs": [],
   "source": [
    "#DMA Chamber\n",
    "\n",
    "ice = gpd.GeoDataFrame.from_postgis(f\"SELECT ice_id, ice_dma_id, ice_type, ice_location, geom from ice where ice_dma_id = '{dma_id}'\",conn)\n",
    "ice.to_crs(epsg=4326, inplace=True)\n",
    "\n",
    "ice_json = ice.to_json()\n",
    "\n",
    "ice_geojson = folium.features.GeoJson(ice_json, name='DMA Chamber',\n",
    "                                     popup=folium.features.GeoJsonPopup(\n",
    "                                     ['ice_id', 'ice_type', 'ice_location'],\n",
    "                                     ['Chamber ID:','Chamber Type:','Chamber Location']),\n",
    "                                       marker = folium.Marker(icon=folium.Icon(color=\"red\", icon=\"stop\"))\n",
    "                                     ).add_to(mp)\n",
    "mp"
   ]
  },
  {
   "cell_type": "markdown",
   "id": "fee4145a",
   "metadata": {},
   "source": [
    "## Loading Service Connection and setting style"
   ]
  },
  {
   "cell_type": "markdown",
   "id": "032211c3",
   "metadata": {},
   "source": [
    "Service connection is a polyline feature. For styling a color shade from orage to crimson has been applied according the montly billed amount."
   ]
  },
  {
   "cell_type": "code",
   "execution_count": null,
   "id": "fb4dabab",
   "metadata": {},
   "outputs": [],
   "source": [
    "#SERVICE CONNECTIONS \n",
    "\n",
    "def style_hcl(ftr):\n",
    "    billed_amt = ftr['properties']['billed_amt']\n",
    "    \n",
    "    if billed_amt>0 and billed_amt<=2000:\n",
    "        shade = 'Orange'\n",
    "    elif billed_amt>2000 and billed_amt<=5000:\n",
    "        shade = 'LightSalmon'\n",
    "    elif billed_amt>5000 and billed_amt<=10000:\n",
    "        shade = 'Coral'\n",
    "    elif billed_amt>10000 and billed_amt<=15000:\n",
    "        shade = 'OrangeRed'\n",
    "    elif billed_amt>15000:\n",
    "        shade = 'Crimson'\n",
    "    else:\n",
    "        shade = 'black'\n",
    "    \n",
    "    return {'color':shade}\n",
    "\n",
    "hcl = gpd.GeoDataFrame.from_postgis(f\"SELECT hcl_account_no, hcl_meter_no, billed_amt, hcl_dma_id, hcl_category, geom from hcl where hcl_dma_id = '{dma_id}' and not billed_amt is null \",conn)\n",
    "hcl.to_crs(epsg=4326, inplace=True)\n",
    "\n",
    "hcl_json = hcl.to_json()\n",
    "\n",
    "hcl_geojson = folium.features.GeoJson(hcl_json, name='Service Connection',\n",
    "                                     tooltip=folium.features.GeoJsonTooltip(\n",
    "                                     ['hcl_account_no','hcl_meter_no','billed_amt','hcl_category'],\n",
    "                                     ['Account Number:','Meter No:','Billed Amount:','Category:']),\n",
    "                                      style_function=style_hcl\n",
    "                                     ).add_to(mp)\n",
    "mp"
   ]
  },
  {
   "cell_type": "markdown",
   "id": "700f64c7",
   "metadata": {},
   "source": [
    "## Loading Buildings and setting style"
   ]
  },
  {
   "cell_type": "markdown",
   "id": "6a1dd8a0",
   "metadata": {},
   "source": [
    "Building layer is a bit messy, so I prefer to set the 'show' value to 'False'. It will be on the map, but not on the page load. It can be displayed by applying the tick mark in the layer control."
   ]
  },
  {
   "cell_type": "code",
   "execution_count": null,
   "id": "a5a442bb",
   "metadata": {},
   "outputs": [],
   "source": [
    "#BUILDINGS\n",
    "def style_building(ftr):\n",
    "    return {'color':'#95A5A6', 'fillOpacity':0}\n",
    "\n",
    "buildings = gpd.GeoDataFrame.from_postgis(f\"SELECT building_dma_id, building_category, building_storey, building_population, building_address, geom from buildings where building_dma_id = '{dma_id}'\",conn)\n",
    "buildings.to_crs(epsg=4326, inplace=True)\n",
    "\n",
    "buildings_json = buildings.to_json()\n",
    "\n",
    "buildings_geojson = folium.features.GeoJson(buildings_json, name='Buildings', show=False,\n",
    "                                           tooltip=folium.features.GeoJsonTooltip(\n",
    "                                           ['building_category', 'building_storey', 'building_population', 'building_address'],\n",
    "                                           ['Category:','Storey:','Population:','Address:']\n",
    "                                           ),\n",
    "                                            style_function=style_building\n",
    "                                           ).add_to(mp)"
   ]
  },
  {
   "cell_type": "markdown",
   "id": "185eb8aa",
   "metadata": {},
   "source": [
    "## Loading Consumer Meters and applying style"
   ]
  },
  {
   "cell_type": "markdown",
   "id": "c2789890",
   "metadata": {},
   "source": [
    "Consumer meter is a point feature. Applying a single style to a point feature in Folium is pretty simple as displayed in the case of deep tubewell. However, if you want to apply multiple style on point feature, it gets a bit complicated. You have to iterate through each point feature, and catch the properties upon which you want to apply the symbology. In our case, the radius of the point marker will vary according to the diameter of the meters. Again the color will vary according to the category of the meters (domestic, commercial or others). "
   ]
  },
  {
   "cell_type": "code",
   "execution_count": null,
   "id": "8bcbedc3",
   "metadata": {},
   "outputs": [],
   "source": [
    "mtr = gpd.GeoDataFrame.from_postgis(f\"SELECT mtr_no, cast(mtr_diameter as integer)as diameter, mtr_cus_type, geom from mtr where mtr_dma_id = '{dma_id}' and not mtr_cus_type is null and not mtr_diameter is null \",conn)\n",
    "mtr.to_crs(epsg=4326, inplace=True)\n",
    "\n",
    "for index, row in mtr.iterrows():\n",
    "     \n",
    "    meter_type = row['mtr_cus_type']\n",
    "    meter_diameter = row['diameter']\n",
    "        \n",
    "    geom = row['geom']\n",
    "    latitude = geom.y\n",
    "    longitude = geom.x\n",
    "    \n",
    "    if meter_type == 'Domestic':\n",
    "        color = '#2E86C1'\n",
    "    elif meter_type == 'Commercial':\n",
    "        color = '#9B59B6'\n",
    "    else:\n",
    "        color = '#E59866'\n",
    "    \n",
    "    if meter_diameter <=25:\n",
    "        radius = 3\n",
    "    elif meter_diameter>25 and meter_diameter<=50:\n",
    "        radius = 4.5\n",
    "    elif meter_diameter>50 and meter_diameter<=100:\n",
    "        radius = 5\n",
    "    elif meter_diameter>100 and meter_diameter <=200:\n",
    "        radius = 6\n",
    "    elif meter_diameter>200:\n",
    "        radius = 7\n",
    "    else:\n",
    "        radius = 1\n",
    "        \n",
    "    tooltip_content = f\"<h6>Meter</h6>Meter Type: {meter_type}<br>Meter Diameter (mm): {meter_diameter}\"\n",
    "    \n",
    "    folium.CircleMarker(\n",
    "        location = [latitude, longitude],\n",
    "        radius = radius,\n",
    "        color = color,\n",
    "        fill = True,\n",
    "        fillOpacity=1,\n",
    "        tooltip = tooltip_content,\n",
    "        Name=\"Meter\"\n",
    "    ).add_to(mp)\n",
    "\n",
    "mp\n",
    "\n"
   ]
  },
  {
   "cell_type": "markdown",
   "id": "00d84f59",
   "metadata": {},
   "source": [
    "## Final map with control layers"
   ]
  },
  {
   "cell_type": "markdown",
   "id": "8470219b",
   "metadata": {},
   "source": [
    "From the Control Layer, you can turn off and on any layer. You can also change the basemaps."
   ]
  },
  {
   "cell_type": "code",
   "execution_count": null,
   "id": "9e7982dc",
   "metadata": {
    "scrolled": true
   },
   "outputs": [],
   "source": [
    "folium.LayerControl().add_to(mp)\n",
    "mp\n"
   ]
  },
  {
   "cell_type": "markdown",
   "id": "ce529b06",
   "metadata": {},
   "source": [
    "Prepared By:\n",
    "    Md. Touhidur Rahman, Email: touhidur002@gmail.com"
   ]
  }
 ],
 "metadata": {
  "kernelspec": {
   "display_name": "Python 3 (ipykernel)",
   "language": "python",
   "name": "python3"
  },
  "language_info": {
   "codemirror_mode": {
    "name": "ipython",
    "version": 3
   },
   "file_extension": ".py",
   "mimetype": "text/x-python",
   "name": "python",
   "nbconvert_exporter": "python",
   "pygments_lexer": "ipython3",
   "version": "3.11.4"
  }
 },
 "nbformat": 4,
 "nbformat_minor": 5
}
